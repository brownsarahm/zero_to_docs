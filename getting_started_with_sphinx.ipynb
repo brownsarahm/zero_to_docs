{
 "cells": [
  {
   "cell_type": "markdown",
   "metadata": {
    "deletable": true,
    "editable": true
   },
   "source": [
    "# Getting started with sphinx\n",
    "Back in the day, people had to build documentation by hand. That meant hand-coding websites, tutorials, examples, and API explanations. As we all know, developing is a lot more fun than maintaining a website, and luckily some people threw together a collection of tools that automatically generate documentation for you.\n",
    "\n",
    "One such tool is Sphinx, a package that will scan your codebase for structured text, and use this to convert it into beautifully-rendered webpages. Sphinx also has an ecosystem of plugins that will let you extend its functionality. This is a quick introduction to sphinx, and will cover setting up a simple sphinx section of your project.\n",
    "\n",
    "First things first, this material is heavily based off some readily-existing sphinx guides that are out there. We recommend checking these out for more information:\n",
    "\n",
    "* [Sphinx quickstart documentation](http://www.sphinx-doc.org/en/stable/tutorial.html)\n",
    "* [Write the docs sphinx tutorial](http://www.writethedocs.org/guide/tools/sphinx/)\n",
    "* [Another cheat sheet-style doc](https://pythonhosted.org/an_example_pypi_project/sphinx.html)"
   ]
  },
  {
   "cell_type": "markdown",
   "metadata": {
    "deletable": true,
    "editable": true
   },
   "source": [
    "**NOTE:** This tutorial can be paired with a skeleton repository we've put together to help guide you through the setup process. You can clone it to a folder next to these one by running these lines:"
   ]
  },
  {
   "cell_type": "code",
   "execution_count": null,
   "metadata": {
    "collapsed": false,
    "deletable": true,
    "editable": true
   },
   "outputs": [],
   "source": [
    "%%bash\n",
    "git clone https://github.com/choldgraf/sphinx_template ../sphinx_template"
   ]
  },
  {
   "cell_type": "markdown",
   "metadata": {
    "deletable": true,
    "editable": true
   },
   "source": [
    "* [Here's a link to this repository](https://github.com/choldgraf/sphinx_template)\n",
    "\n",
    "This is a fully-functioning sphinx template. However, since we're doing a demo, we'll clear everything out!"
   ]
  },
  {
   "cell_type": "code",
   "execution_count": null,
   "metadata": {
    "collapsed": false,
    "deletable": true,
    "editable": true
   },
   "outputs": [],
   "source": [
    "%%bash\n",
    "rm -rf ../sphinx_template/docs/*"
   ]
  },
  {
   "cell_type": "markdown",
   "metadata": {
    "deletable": true,
    "editable": true
   },
   "source": [
    "# Installing and setting up sphinx\n",
    "Sphinx is pip-installable, so let's do that first..."
   ]
  },
  {
   "cell_type": "code",
   "execution_count": null,
   "metadata": {
    "collapsed": false,
    "deletable": true,
    "editable": true
   },
   "outputs": [],
   "source": [
    "%%bash\n",
    "pip install sphinx --upgrade"
   ]
  },
  {
   "cell_type": "markdown",
   "metadata": {
    "deletable": true,
    "editable": true
   },
   "source": [
    "# Investigating the repo\n",
    "Let's take a look at what's inside the repository we downloaded."
   ]
  },
  {
   "cell_type": "code",
   "execution_count": null,
   "metadata": {
    "collapsed": false,
    "deletable": true,
    "editable": true
   },
   "outputs": [],
   "source": [
    "%%bash\n",
    "ls -l ../sphinx_template"
   ]
  },
  {
   "cell_type": "markdown",
   "metadata": {
    "deletable": true,
    "editable": true
   },
   "source": [
    "Inside the repo we downloaded above is a sample repository that could use some documentation. If we look inside it, we can see that the repo has:\n",
    "\n",
    "* a python package called `my_package`\n",
    "* an examples folder called `examples`\n",
    "* configuration files for the repo\n",
    "* an empty folder `docs` where we'll put new documentation\n",
    "\n",
    "The `my_package` folder has the code for the project..."
   ]
  },
  {
   "cell_type": "code",
   "execution_count": null,
   "metadata": {
    "collapsed": false,
    "deletable": true,
    "editable": true
   },
   "outputs": [],
   "source": [
    "%%bash\n",
    "ls -l ../sphinx_template/my_package/"
   ]
  },
  {
   "cell_type": "markdown",
   "metadata": {
    "deletable": true,
    "editable": true
   },
   "source": [
    "The examples folder is a collection of scripts that will generate some plots"
   ]
  },
  {
   "cell_type": "code",
   "execution_count": null,
   "metadata": {
    "collapsed": false,
    "deletable": true,
    "editable": true
   },
   "outputs": [],
   "source": [
    "%%bash\n",
    "ls -l ../sphinx_template/examples/"
   ]
  },
  {
   "cell_type": "markdown",
   "metadata": {
    "deletable": true,
    "editable": true
   },
   "source": [
    "This is a common structure for a package. We've got some code that gets something done, and a few examples that show off this code. Since we are hosting this repo on github, we are also deploying it to gh-pages in order to have our own little website.\n",
    "\n",
    "In addition, note that the `docs` folder is relatively empty. Let's change that!"
   ]
  },
  {
   "cell_type": "markdown",
   "metadata": {
    "collapsed": true,
    "deletable": true,
    "editable": true
   },
   "source": [
    "## Sphinx-quickstart\n",
    "The easiest way to set up a sphinx repository is to use `sphinx-quickstart`. This will ask you a few questions about your project, and then quickly generate a shell structure for your documentation.\n",
    "\n",
    "You'll need to run this command from your shell (because it asks you questions interactively). Do the following things:\n",
    "\n",
    "* Change directories to the `docs` directory.\n",
    "* Run this command: `sphinx-quickstart`\n",
    "    * Answer `yes` when it asks whether you want separate `source` and `build` directories. This separates the files you use to generate the website from the built website itself.\n",
    "    * Make sure to answer `yes` when it asks you to install the following packages\n",
    "      * githubpages\n",
    "      * MathJax\n",
    "      * intersphinx\n",
    "    * Use the default option for most questions, and give whatever you like for the name / version number / etc \n",
    "\n",
    "      \n",
    "---\n",
    "** Come back here after you've run the setup process **\n",
    "\n",
    "---\n",
    "\n",
    "Now let's take a look at what's inside the `docs` folder:"
   ]
  },
  {
   "cell_type": "code",
   "execution_count": null,
   "metadata": {
    "collapsed": false,
    "deletable": true,
    "editable": true
   },
   "outputs": [],
   "source": [
    "%%bash\n",
    "ls -l ../sphinx_template/docs"
   ]
  },
  {
   "cell_type": "markdown",
   "metadata": {
    "deletable": true,
    "editable": true
   },
   "source": [
    "We can see that sphinx created a bunch of new stuff for it to use. Here are some important points:\n",
    "\n",
    "# Here's what was created\n",
    "* `Makefile` is useful if we want to do lots of things with one command, it's usually what you use to start the documentation generation process\n",
    "* `build` is where sphinx will dump the actual HTML that is generated.\n",
    "* `source` is where our website files will go\n",
    "\n",
    "# Inside the `source` folder\n",
    "The source folder is where we'll store the \"source\" files for our documentation. Usually this means structured text, but it also has configuration for our website."
   ]
  },
  {
   "cell_type": "code",
   "execution_count": null,
   "metadata": {
    "collapsed": false,
    "deletable": true,
    "editable": true
   },
   "outputs": [],
   "source": [
    "%%bash\n",
    "ls -l ../sphinx_template/docs/source/"
   ]
  },
  {
   "cell_type": "markdown",
   "metadata": {
    "deletable": true,
    "editable": true
   },
   "source": [
    "* `conf.py` is a configuration file that tells sphinx how to build the documentation\n",
    "* `index.rst` is a reStructuredTest file that is your root documentation file. Usually it contains the table of contents, which tells sphinx which docs it should care about.\n",
    "\n",
    "(don't worry about the other two folders now...they can be used to customize the website and its style later on)\n",
    "\n",
    "## Modifying the `conf.py` file\n",
    "\n",
    "Now that we've set up sphinx, we need to make some quick changes to `conf.py`. This is the configuration file that will tell sphinx how to build our documentation.\n",
    "\n",
    "You should comment out the `import sys` and `import os` lines, then add these lines below:\n",
    "\n",
    "```python\n",
    "sys.path.insert(0, os.path.join(os.path.dirname(__file__), '../../')) \n",
    "print(sys.path[0])\n",
    "```\n",
    "\n",
    "Also note the **extensions** variable. This is where you can list sphinx extensions you wish to use in this project. We'll add the `numpydoc` extension because we'll be using it later on.\n",
    "\n",
    "* Add `numpydoc` to the list."
   ]
  },
  {
   "cell_type": "code",
   "execution_count": null,
   "metadata": {
    "collapsed": false,
    "deletable": true,
    "editable": true
   },
   "outputs": [],
   "source": [
    "# In case you need to install numpydoc\n",
    "!pip install numpydoc --upgrade"
   ]
  },
  {
   "cell_type": "markdown",
   "metadata": {
    "deletable": true,
    "editable": true
   },
   "source": [
    "## Digging into `index.rst`\n",
    "\n",
    "You may notice the new extension here, `rst`.\n",
    "\n",
    "`.rst` stands for reStructuredText. This is a language for structuring text such that it can be used to generate beautiful HTML output.\n",
    "\n",
    "* [Here's a good guide](http://www.sphinx-doc.org/en/stable/rest.html#rst-primer) on learning about the rST language\n",
    "* [Here's a cheatsheet](http://docutils.sourceforge.net/docs/user/rst/cheatsheet.txt) with some simple rst examples\n",
    "* [Here's an app](http://rst.ninjs.org/) to quickly demo what your rST will look like.\n",
    "\n",
    "Let's see what this looks like below. Note the peculiar way in which the text is structured. This is what allows sphinx to parse it properly."
   ]
  },
  {
   "cell_type": "code",
   "execution_count": null,
   "metadata": {
    "collapsed": false,
    "deletable": true,
    "editable": true
   },
   "outputs": [],
   "source": [
    "%%bash\n",
    "cat ../sphinx_template/docs/source/index.rst"
   ]
  },
  {
   "cell_type": "markdown",
   "metadata": {
    "deletable": true,
    "editable": true
   },
   "source": [
    "The most important part about `index.rst` is that it contains the *Table of Contents*. This is what sphinx uses to decide which pages to render. Right now it's mostly empty. We need to point it to something we've created!\n",
    "\n",
    "# Building the docs\n",
    "We still need to populate our documentation with actual content, but we can already build a (very small) website using sphinx. Let's give that a shot to see what happens (we'll create new content in a little bit).\n",
    "\n",
    "The `html` flag tells sphinx it's time to generate the pages for our website."
   ]
  },
  {
   "cell_type": "code",
   "execution_count": null,
   "metadata": {
    "collapsed": false,
    "deletable": true,
    "editable": true
   },
   "outputs": [],
   "source": [
    "%%bash\n",
    "make html -C ../sphinx_template/docs/"
   ]
  },
  {
   "cell_type": "markdown",
   "metadata": {
    "deletable": true,
    "editable": true
   },
   "source": [
    "Let's see what we just generated here. If we look inside the `build/html` directory..."
   ]
  },
  {
   "cell_type": "code",
   "execution_count": null,
   "metadata": {
    "collapsed": false,
    "deletable": true,
    "editable": true
   },
   "outputs": [],
   "source": [
    "%%bash\n",
    "ls -l ../sphinx_template/docs/build/html/"
   ]
  },
  {
   "cell_type": "markdown",
   "metadata": {
    "deletable": true,
    "editable": true
   },
   "source": [
    "We can see that all the components for a website are there. You can get a feel for this by simply navigating your file browser to this folder and double-clicking on `index.html`. Try that out now with the command below:"
   ]
  },
  {
   "cell_type": "code",
   "execution_count": null,
   "metadata": {
    "collapsed": false,
    "deletable": true,
    "editable": true
   },
   "outputs": [],
   "source": [
    "%%bash\n",
    "open ../sphinx_template/docs/build/html/index.html"
   ]
  },
  {
   "cell_type": "markdown",
   "metadata": {
    "deletable": true,
    "editable": true
   },
   "source": [
    "Looks like a webpage! You should also notice the relationship between what's on this page, and what's in `index.rst`. We'll print it again below so it's easier to compare."
   ]
  },
  {
   "cell_type": "code",
   "execution_count": null,
   "metadata": {
    "collapsed": false,
    "deletable": true,
    "editable": true
   },
   "outputs": [],
   "source": [
    "%%bash\n",
    "cat ../sphinx_template/docs/source/index.rst"
   ]
  },
  {
   "cell_type": "markdown",
   "metadata": {
    "deletable": true,
    "editable": true
   },
   "source": [
    "Comparing the two, we can see how `rst` files define things like titles (with `=======`, `-------`, or some version of this). We also see how it is possible to point to other pages with `:ref:`. These links point to other parts of the sphinx website.\n",
    "\n",
    "# Adding a new file\n",
    "Now that our site structure is ready to go, let's add a page to our documentation. This should give you an idea for how to add new content to the site.\n",
    "\n",
    "## API.rst\n",
    "We'll generate a single new page for our API reference, called `API.rst`, and then add a reference to it in our `index.rst`.\n",
    "\n",
    "```\n",
    "API Reference\n",
    "=============\n",
    "\n",
    ".. automodule:: my_package\n",
    "   :members:\n",
    "```\n",
    "\n",
    "## overview.rst\n",
    "We'll also generate a short overview document that gives more detail about the project. Paste in this text:\n",
    "\n",
    "```\n",
    "Overview\n",
    "========\n",
    "\n",
    "This is the example documentation for a fictitious piece of software called\n",
    "`my_package`.\n",
    "\n",
    "The example shows how to:\n",
    "\n",
    "- Include `NumPy-style docstrings <https://github.com/numpy/numpydoc>`__.\n",
    "- Generate a `Sphinx gallery <https://github.com/sphinx-gallery/sphinx-gallery>`__.\n",
    "```\n",
    "\n",
    "## awesomepage.rst\n",
    "To show off some other cool things that sphinx can do, we'll add in an extra page with a little more pizzaz.\n",
    "\n",
    "```\n",
    "What a great page\n",
    "=================\n",
    "\n",
    "This page, truly, is the greatest page on the internet.\n",
    "\n",
    "See, we've even got `David Bowie <https://www.youtube.com/watch?v=iYYRH4apXDo>`_.\n",
    "\n",
    "as well as pictures of cute cats\n",
    "\n",
    ".. image::  https://lh6.ggpht.com/sw_iT7GZASdAYeiecsZEHJE-EgDhdK2rCWUzZOJS0OFiGpoi9qn8iMH2nuXHgWg2PA=h900\n",
    "   :align:   center\n",
    "   :target: https://en.wikipedia.org/wiki/Cat/\n",
    "```"
   ]
  },
  {
   "cell_type": "markdown",
   "metadata": {},
   "source": [
    "Now that we've added pages, we also need to add a reference to them in our site's table of contents. We'll add a line for each page to the TOC (inside `index.rst`) so that the section looks like this:\n",
    "\n",
    "```\n",
    "Contents:\n",
    "\n",
    ".. toctree::\n",
    "   :maxdepth: 2\n",
    "\n",
    "   API\n",
    "   overview\n",
    "   awesomepage\n",
    "```\n",
    "**Make sure they are indented to the same level as the `:` above**\n",
    "\n",
    "# Adding references between your modules\n",
    "Sometimes you want to reference something without having to manually specify a URL. In this case, we can use intersphinx to make this easy. This lets us specify a reference by name, or by reference to a python module / function.\n",
    "\n",
    "## To add references for specific words\n",
    "Add the following to `conf.py`:\n",
    "\n",
    "```\n",
    "intersphinx_mapping = {'python': ('https://docs.python.org/3/', None),\n",
    "                       'matplotlib': ('http://matplotlib.org/', None)\n",
    "}\n",
    "```\n",
    "\n",
    "## To add references to a function or module\n",
    "Try adding the following to the bottom of a docstring for one of our functions:\n",
    "\n",
    "```\n",
    ":any:`os.environ`\n",
    "```\n",
    "\n",
    "Next we need to tell sphinx to generate the documentation for our API:\n",
    "\n",
    "```\n",
    "sphinx-apidoc my_package -o docs/source\n",
    "```\n",
    "\n",
    "Now, when we generate the site, it should automatically link to our own functions."
   ]
  },
  {
   "cell_type": "markdown",
   "metadata": {
    "deletable": true,
    "editable": true
   },
   "source": [
    "# Build the site!\n",
    "Now, let's build the site and see what we get."
   ]
  },
  {
   "cell_type": "code",
   "execution_count": null,
   "metadata": {
    "collapsed": false,
    "deletable": true,
    "editable": true
   },
   "outputs": [],
   "source": [
    "%%bash\n",
    "make html -C ../sphinx_template/docs/"
   ]
  },
  {
   "cell_type": "markdown",
   "metadata": {
    "deletable": true,
    "editable": true
   },
   "source": [
    "Looking inside the `build` folder, we've got a bunch of new HTML files."
   ]
  },
  {
   "cell_type": "code",
   "execution_count": null,
   "metadata": {
    "collapsed": false,
    "deletable": true,
    "editable": true
   },
   "outputs": [],
   "source": [
    "%%bash\n",
    "ls -l ../sphinx_template/docs/build/html/"
   ]
  },
  {
   "cell_type": "markdown",
   "metadata": {
    "deletable": true,
    "editable": true
   },
   "source": [
    "As you can see, let's look at our site now..."
   ]
  },
  {
   "cell_type": "code",
   "execution_count": null,
   "metadata": {
    "collapsed": false,
    "deletable": true,
    "editable": true
   },
   "outputs": [],
   "source": [
    "%%bash\n",
    "open ../sphinx_template/docs/build/html/index.html"
   ]
  },
  {
   "cell_type": "markdown",
   "metadata": {
    "deletable": true,
    "editable": true
   },
   "source": [
    "And now we have a website!\n",
    "\n",
    "# Wrapping up\n",
    "This is just a start with Sphinx. There are many, many more things you can do with it.\n",
    "\n",
    "* [Here's what a nicely done sphinx site looks like](http://docs.python-requests.org/en/master/user/intro/)\n",
    "\n",
    "In particular, you may have noticed that we now have a beautiful formatted description of one of our functions. We'll take a look at how we did this next."
   ]
  },
  {
   "cell_type": "code",
   "execution_count": null,
   "metadata": {
    "collapsed": true,
    "deletable": true,
    "editable": true
   },
   "outputs": [],
   "source": []
  }
 ],
 "metadata": {
  "kernelspec": {
   "display_name": "Python 3",
   "language": "python",
   "name": "python3"
  },
  "language_info": {
   "codemirror_mode": {
    "name": "ipython",
    "version": 3
   },
   "file_extension": ".py",
   "mimetype": "text/x-python",
   "name": "python",
   "nbconvert_exporter": "python",
   "pygments_lexer": "ipython3",
   "version": "3.5.2"
  }
 },
 "nbformat": 4,
 "nbformat_minor": 2
}
